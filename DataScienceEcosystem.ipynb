{
 "cells": [
  {
   "cell_type": "markdown",
   "id": "ac8a65fd",
   "metadata": {},
   "source": [
    "# Data Science Tools and Ecosystem\n"
   ]
  },
  {
   "cell_type": "markdown",
   "id": "80f3ae34",
   "metadata": {},
   "source": [
    "In this notebook, Data Science Tools and Ecosystem are summarized."
   ]
  },
  {
   "cell_type": "markdown",
   "id": "b415aff1",
   "metadata": {},
   "source": [
    "Some of the popular languages that Data Scientists use are:\n",
    "1. Python\n",
    "2. R\n",
    "3. SQL"
   ]
  },
  {
   "cell_type": "markdown",
   "id": "3343b146",
   "metadata": {},
   "source": [
    "Some of the commonly used libraries used by Data Scientists include:\n",
    "1. matplotlib \n",
    "2. pandas\n",
    "3. seaborn"
   ]
  },
  {
   "cell_type": "markdown",
   "id": "93b7ba6e",
   "metadata": {},
   "source": [
    "|Data Science Tools|\n",
    "|------------------|\n",
    "|R Studio|\n",
    "|Jupyter Notebook|\n",
    "|Apache Zepplin|"
   ]
  },
  {
   "cell_type": "markdown",
   "id": "541212b3",
   "metadata": {},
   "source": [
    "### Below are a few examples of evaluating arithmetic expressions in Python.\n"
   ]
  },
  {
   "cell_type": "code",
   "execution_count": 2,
   "id": "40f19235",
   "metadata": {},
   "outputs": [],
   "source": [
    "#This a simple arithmetic expression to mutiply then add integers.\n"
   ]
  },
  {
   "cell_type": "code",
   "execution_count": 4,
   "id": "fb198eaa",
   "metadata": {},
   "outputs": [
    {
     "data": {
      "text/plain": [
       "17"
      ]
     },
     "execution_count": 4,
     "metadata": {},
     "output_type": "execute_result"
    }
   ],
   "source": [
    "(3*4)+5"
   ]
  },
  {
   "cell_type": "code",
   "execution_count": 5,
   "id": "aefb997b",
   "metadata": {},
   "outputs": [],
   "source": [
    "#This will convert 200 minutes to hours by diving by 60."
   ]
  },
  {
   "cell_type": "code",
   "execution_count": 6,
   "id": "ab3f91e1",
   "metadata": {},
   "outputs": [],
   "source": [
    "#given 200minutes"
   ]
  },
  {
   "cell_type": "code",
   "execution_count": 7,
   "id": "f98a9dfc",
   "metadata": {},
   "outputs": [
    {
     "data": {
      "text/plain": [
       "3.3333333333333335"
      ]
     },
     "execution_count": 7,
     "metadata": {},
     "output_type": "execute_result"
    }
   ],
   "source": [
    "200/60"
   ]
  },
  {
   "cell_type": "code",
   "execution_count": 8,
   "id": "3e537164",
   "metadata": {},
   "outputs": [],
   "source": [
    "#answer is 3.3333333335 hours"
   ]
  },
  {
   "cell_type": "markdown",
   "id": "eaf75af7",
   "metadata": {},
   "source": [
    "**Objectives:**\n",
    "- how to use jupyter notebook attributes like creating it\n",
    "- how to make tables and makes lists in markdown cells\n",
    "- do basic calculations in python\n",
    "- List popular languages for Data Science\n"
   ]
  },
  {
   "cell_type": "markdown",
   "id": "7c1212ab",
   "metadata": {},
   "source": [
    "## Author\n",
    "Kevin Joy Thomas"
   ]
  },
  {
   "cell_type": "code",
   "execution_count": null,
   "id": "46ac5f39",
   "metadata": {},
   "outputs": [],
   "source": []
  }
 ],
 "metadata": {
  "kernelspec": {
   "display_name": "Python 3 (ipykernel)",
   "language": "python",
   "name": "python3"
  },
  "language_info": {
   "codemirror_mode": {
    "name": "ipython",
    "version": 3
   },
   "file_extension": ".py",
   "mimetype": "text/x-python",
   "name": "python",
   "nbconvert_exporter": "python",
   "pygments_lexer": "ipython3",
   "version": "3.9.12"
  }
 },
 "nbformat": 4,
 "nbformat_minor": 5
}
